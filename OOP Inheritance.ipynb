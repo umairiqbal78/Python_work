{
 "cells": [
  {
   "cell_type": "markdown",
   "metadata": {},
   "source": [
    "# Inheritance "
   ]
  },
  {
   "cell_type": "code",
   "execution_count": 1,
   "metadata": {},
   "outputs": [],
   "source": [
    "#helps to recall code"
   ]
  },
  {
   "cell_type": "code",
   "execution_count": 80,
   "metadata": {},
   "outputs": [],
   "source": [
    "class Car():\n",
    "    def __init__(self, make, model, year):\n",
    "        self.make = make\n",
    "        self.model = model\n",
    "        self.year = year\n",
    "        self.odometer_reading = 0\n",
    "        \n",
    "    def get_descriptive_name(self):\n",
    "        \n",
    "        long_name = str(self.year) + ' ' + self.make + ' '+ self.model\n",
    "        return long_name.title()\n",
    "    \n",
    "    def read_odometer(self):\n",
    "        print(f\"the car has travelled {self.odometer_reading} miles\")\n",
    "    \n",
    "    def update_odometer(self, mileage):\n",
    "        self.odometer_reading = mileage\n",
    "        \n",
    "    def increase_odometer(self, mileage):\n",
    "        if mileage >0:\n",
    "            self.odometer_reading +=mileage\n",
    "        else:\n",
    "            print(\"you can not rol back odometer\")\n",
    "    def getFuelTank(self):\n",
    "        print(\"100iters\")"
   ]
  },
  {
   "cell_type": "code",
   "execution_count": 3,
   "metadata": {},
   "outputs": [],
   "source": [
    "class ElectricCar(Car):\n",
    "    def __init__(self,make,model,year):\n",
    "        super().__init__(make,model,year)\n",
    "        "
   ]
  },
  {
   "cell_type": "code",
   "execution_count": 4,
   "metadata": {},
   "outputs": [],
   "source": [
    "eCar = ElectricCar('toyota','corola',1990)"
   ]
  },
  {
   "cell_type": "code",
   "execution_count": 5,
   "metadata": {},
   "outputs": [
    {
     "name": "stdout",
     "output_type": "stream",
     "text": [
      "the car has travelled 0 miles\n"
     ]
    }
   ],
   "source": [
    "eCar.read_odometer()"
   ]
  },
  {
   "cell_type": "code",
   "execution_count": 6,
   "metadata": {},
   "outputs": [],
   "source": [
    "eCar.increase_odometer(15)"
   ]
  },
  {
   "cell_type": "code",
   "execution_count": 7,
   "metadata": {},
   "outputs": [
    {
     "name": "stdout",
     "output_type": "stream",
     "text": [
      "the car has travelled 15 miles\n"
     ]
    }
   ],
   "source": [
    "eCar.read_odometer()"
   ]
  },
  {
   "cell_type": "code",
   "execution_count": 8,
   "metadata": {},
   "outputs": [
    {
     "data": {
      "text/plain": [
       "'toyota'"
      ]
     },
     "execution_count": 8,
     "metadata": {},
     "output_type": "execute_result"
    }
   ],
   "source": [
    "eCar.make"
   ]
  },
  {
   "cell_type": "code",
   "execution_count": 9,
   "metadata": {},
   "outputs": [],
   "source": [
    "eCar.increase_odometer(30)"
   ]
  },
  {
   "cell_type": "code",
   "execution_count": 10,
   "metadata": {},
   "outputs": [
    {
     "name": "stdout",
     "output_type": "stream",
     "text": [
      "the car has travelled 45 miles\n"
     ]
    }
   ],
   "source": [
    "eCar.read_odometer()"
   ]
  },
  {
   "cell_type": "code",
   "execution_count": 11,
   "metadata": {},
   "outputs": [],
   "source": [
    "class ElectricCar(Car):\n",
    "    def __init__(self,make,model,year):\n",
    "        super().__init__(make,model,year)\n",
    "        self.batterySize = 70\n",
    "    def getBatterySize(self):\n",
    "        print(f'the battery size of eCar is {self.batterySize}')\n",
    "    def setBatterySize(self, newbatterysize):\n",
    "        self.batterySize = newbatterysize\n",
    "    def getFuelTank(self):\n",
    "        print(f'electric car doesnt have fuel tank')"
   ]
  },
  {
   "cell_type": "code",
   "execution_count": 12,
   "metadata": {},
   "outputs": [],
   "source": [
    "elecCar = ElectricCar(\"ABC ElectricCar\", \"NewCar\", 2019)"
   ]
  },
  {
   "cell_type": "code",
   "execution_count": 13,
   "metadata": {},
   "outputs": [
    {
     "data": {
      "text/plain": [
       "70"
      ]
     },
     "execution_count": 13,
     "metadata": {},
     "output_type": "execute_result"
    }
   ],
   "source": [
    "elecCar.batterySize"
   ]
  },
  {
   "cell_type": "code",
   "execution_count": 14,
   "metadata": {},
   "outputs": [],
   "source": [
    "elecCar.setBatterySize(200)"
   ]
  },
  {
   "cell_type": "code",
   "execution_count": 15,
   "metadata": {},
   "outputs": [
    {
     "name": "stdout",
     "output_type": "stream",
     "text": [
      "the battery size of eCar is 200\n"
     ]
    }
   ],
   "source": [
    "elecCar.getBatterySize()"
   ]
  },
  {
   "cell_type": "code",
   "execution_count": 16,
   "metadata": {},
   "outputs": [
    {
     "name": "stdout",
     "output_type": "stream",
     "text": [
      "electric car doesnt have fuel tank\n"
     ]
    }
   ],
   "source": [
    "elecCar.getFuelTank()"
   ]
  },
  {
   "cell_type": "markdown",
   "metadata": {},
   "source": [
    "# Instance as Attribute"
   ]
  },
  {
   "cell_type": "code",
   "execution_count": 21,
   "metadata": {},
   "outputs": [],
   "source": [
    "class Battery():\n",
    "    def __init__(self, manufacturer, watt, date):\n",
    "        self.manufacturer = manufacturer\n",
    "        self.watt = watt\n",
    "        self.date = date\n",
    "        self.batterySize = 100\n",
    "    def getBatterySize(self):\n",
    "        print(f\"The battery size of the eCar is {self.batterySize}\")\n",
    "        \n",
    "    def setBatterySize(self, battery):\n",
    "        self.batterySize = battery\n",
    "        "
   ]
  },
  {
   "cell_type": "code",
   "execution_count": 28,
   "metadata": {},
   "outputs": [],
   "source": [
    "class ElectricCar(Car):\n",
    "    def __init__(self, make, model, year):\n",
    "        super().__init__(make, model, year)\n",
    "        self.battery = Battery(\"osaka\", 200, 2019)\n",
    "        \n",
    "    def getFuelTankSize(self):\n",
    "        print(f'Electric car doesnt have fuel tank')\n",
    "        "
   ]
  },
  {
   "cell_type": "code",
   "execution_count": 29,
   "metadata": {},
   "outputs": [],
   "source": [
    "eCar = ElectricCar('abc','xyz',7575)"
   ]
  },
  {
   "cell_type": "code",
   "execution_count": 30,
   "metadata": {},
   "outputs": [
    {
     "data": {
      "text/plain": [
       "<function __main__.ElectricCar.getFuelTankSize(self)>"
      ]
     },
     "execution_count": 30,
     "metadata": {},
     "output_type": "execute_result"
    }
   ],
   "source": [
    "ElectricCar.getFuelTankSize"
   ]
  },
  {
   "cell_type": "markdown",
   "metadata": {},
   "source": [
    "# Example Restaurant 9.1"
   ]
  },
  {
   "cell_type": "code",
   "execution_count": 92,
   "metadata": {},
   "outputs": [],
   "source": [
    "class Restaurant():\n",
    "    def __init__(self, restaurantName, cuisineType):\n",
    "        self.restaurantName = restaurantName\n",
    "        self.cuisineType = cuisineType\n",
    "    def describeResturant(self):\n",
    "        print(f\"the name of restaurant is {self.restaurantName}\")\n",
    "        print(f\"The cuisine type is {cuisineType}\")\n",
    "    def openResturant(self):\n",
    "        print(f\"{self.restaurantName} is open today\")\n",
    "              "
   ]
  },
  {
   "cell_type": "code",
   "execution_count": 93,
   "metadata": {},
   "outputs": [],
   "source": [
    "r1 = Restaurant(\"DehliFoods\", \"Asian\")"
   ]
  },
  {
   "cell_type": "code",
   "execution_count": 94,
   "metadata": {},
   "outputs": [
    {
     "name": "stdout",
     "output_type": "stream",
     "text": [
      "DehliFoods\n",
      "Asian\n"
     ]
    }
   ],
   "source": [
    "print(r1.restaurantName)\n",
    "print(r1.cuisineType)"
   ]
  },
  {
   "cell_type": "code",
   "execution_count": 95,
   "metadata": {},
   "outputs": [
    {
     "name": "stdout",
     "output_type": "stream",
     "text": [
      "DehliFoods is open today\n"
     ]
    }
   ],
   "source": [
    "r1.openResturant()"
   ]
  },
  {
   "cell_type": "markdown",
   "metadata": {},
   "source": [
    "# Example Restaurant 9.2"
   ]
  },
  {
   "cell_type": "code",
   "execution_count": null,
   "metadata": {},
   "outputs": [],
   "source": [
    "r2 = Restaurant('chinaHill', 'Asian') \n",
    "r3 = Restaurant('Shinwaari', 'Asian')\n",
    "r4 = Restaurant('Dhaka', 'Asian')"
   ]
  },
  {
   "cell_type": "markdown",
   "metadata": {},
   "source": [
    "# Example Restaurant 9.4"
   ]
  },
  {
   "cell_type": "code",
   "execution_count": 81,
   "metadata": {},
   "outputs": [],
   "source": [
    "class Restaurant():\n",
    "    def __init__(self, restaurantName, cuisineType):\n",
    "        self.restaurantName = restaurantName\n",
    "        self.cuisineType = cuisineType\n",
    "        self.numberserved = 0\n",
    "    def describeResturant(self):\n",
    "        print(f\"the name of restaurant is {self.restaurantName}\")\n",
    "        print(f\"The cuisine type is {cuisineType}\")\n",
    "    def openRestaurant(self):\n",
    "        print(f\"{self.restaurantName} is open today\")\n",
    "    def setnumberserved(self, number):\n",
    "        self.setnumberserved = number\n",
    "    def getnumberserved(self):\n",
    "        print(f\"{self.numberserved} customers are served\")\n",
    "        \n",
    "    def increament_number_served(self, num):\n",
    "        self.numberserved += num\n",
    "              "
   ]
  },
  {
   "cell_type": "raw",
   "metadata": {},
   "source": []
  },
  {
   "cell_type": "code",
   "execution_count": 82,
   "metadata": {},
   "outputs": [],
   "source": [
    "restaurant = Restaurant(\"pizza mania\", \"pizzas\")"
   ]
  },
  {
   "cell_type": "code",
   "execution_count": 83,
   "metadata": {},
   "outputs": [
    {
     "name": "stdout",
     "output_type": "stream",
     "text": [
      "pizza mania is open today\n"
     ]
    }
   ],
   "source": [
    "restaurant.openRestaurant()"
   ]
  },
  {
   "cell_type": "code",
   "execution_count": 84,
   "metadata": {},
   "outputs": [],
   "source": [
    "restaurant.numberserved = 10"
   ]
  },
  {
   "cell_type": "code",
   "execution_count": 85,
   "metadata": {},
   "outputs": [
    {
     "data": {
      "text/plain": [
       "10"
      ]
     },
     "execution_count": 85,
     "metadata": {},
     "output_type": "execute_result"
    }
   ],
   "source": [
    "restaurant.numberserved"
   ]
  },
  {
   "cell_type": "code",
   "execution_count": 86,
   "metadata": {},
   "outputs": [
    {
     "data": {
      "text/plain": [
       "30"
      ]
     },
     "execution_count": 86,
     "metadata": {},
     "output_type": "execute_result"
    }
   ],
   "source": [
    "restaurant.setnumberserved(30)\n",
    "restaurant.setnumberserved"
   ]
  },
  {
   "cell_type": "code",
   "execution_count": 87,
   "metadata": {},
   "outputs": [],
   "source": [
    "# 9.3 and 9.5 9.6 9.7 D.Y.S"
   ]
  },
  {
   "cell_type": "code",
   "execution_count": 88,
   "metadata": {},
   "outputs": [
    {
     "name": "stdout",
     "output_type": "stream",
     "text": [
      "10 customers are served\n"
     ]
    }
   ],
   "source": [
    "restaurant.getnumberserved()"
   ]
  },
  {
   "cell_type": "code",
   "execution_count": 89,
   "metadata": {},
   "outputs": [],
   "source": [
    "restaurant.increament_number_served(20)"
   ]
  },
  {
   "cell_type": "code",
   "execution_count": 91,
   "metadata": {},
   "outputs": [
    {
     "name": "stdout",
     "output_type": "stream",
     "text": [
      "30 customers are served\n"
     ]
    }
   ],
   "source": [
    "restaurant.getnumberserved()"
   ]
  },
  {
   "cell_type": "code",
   "execution_count": null,
   "metadata": {},
   "outputs": [],
   "source": []
  }
 ],
 "metadata": {
  "kernelspec": {
   "display_name": "Python 3",
   "language": "python",
   "name": "python3"
  },
  "language_info": {
   "codemirror_mode": {
    "name": "ipython",
    "version": 3
   },
   "file_extension": ".py",
   "mimetype": "text/x-python",
   "name": "python",
   "nbconvert_exporter": "python",
   "pygments_lexer": "ipython3",
   "version": "3.7.3"
  }
 },
 "nbformat": 4,
 "nbformat_minor": 2
}
