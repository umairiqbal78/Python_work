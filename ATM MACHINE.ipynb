{
 "cells": [
  {
   "cell_type": "markdown",
   "metadata": {},
   "source": [
    "# ATM MACHINE"
   ]
  },
  {
   "cell_type": "code",
   "execution_count": 5,
   "metadata": {},
   "outputs": [
    {
     "name": "stdout",
     "output_type": "stream",
     "text": [
      "deposit: yes\n",
      "cash: no\n",
      "transfer: no\n",
      "what is amount of deposit: 223\n",
      "Your cash has been deposit, your balance is 1000\n",
      "Thank you please come again\n"
     ]
    }
   ],
   "source": [
    "x = 777\n",
    "a =input('deposit: ')\n",
    "b =input('cash: ')\n",
    "c =input('transfer: ')\n",
    "if a== 'yes':    \n",
    "    aa=int(input('what is amount of deposit: '))\n",
    "    y = 'Your cash has been deposited, your balance is ' + str(aa+x)\n",
    "    print(y)\n",
    "if b == 'yes':\n",
    "    bb=int(input('what is the cash amount'))\n",
    "    z = 'your remaining balance is '+ str(x-bb)\n",
    "    print(z)\n",
    "if c == 'yes':\n",
    "    cc =int(input('how much money do you want to transfer: '))\n",
    "    o = 'you have successfully transfered the amount, Your remaining balance is ' + str(x-cc)\n",
    "    print(o)\n",
    "\n",
    "print('Thank you please come again')\n",
    "    \n",
    "    \n",
    "    \n",
    "    \n",
    "                  \n",
    "    \n",
    "    "
   ]
  },
  {
   "cell_type": "code",
   "execution_count": null,
   "metadata": {},
   "outputs": [],
   "source": []
  }
 ],
 "metadata": {
  "kernelspec": {
   "display_name": "Python 3",
   "language": "python",
   "name": "python3"
  },
  "language_info": {
   "codemirror_mode": {
    "name": "ipython",
    "version": 3
   },
   "file_extension": ".py",
   "mimetype": "text/x-python",
   "name": "python",
   "nbconvert_exporter": "python",
   "pygments_lexer": "ipython3",
   "version": "3.7.3"
  }
 },
 "nbformat": 4,
 "nbformat_minor": 2
}
